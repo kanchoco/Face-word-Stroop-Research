{
 "cells": [
  {
   "cell_type": "code",
   "execution_count": 1,
   "metadata": {},
   "outputs": [],
   "source": [
    "import pandas as pd\n",
    "import os, time, glob, sys\n",
    "from collections import Counter\n",
    "import re\n",
    "import numpy as np\n",
    "import matplotlib.pyplot as plt"
   ]
  },
  {
   "cell_type": "code",
   "execution_count": null,
   "metadata": {},
   "outputs": [],
   "source": [
    "# 경로 내 모든 response data 파일 처리\n",
    "path = 'C:/Users/USER/Downloads/eeg-fnirs-face-word-eeg/response-data/'\n",
    "fnames = os.listdir(path)\n",
    "total_df = pd.DataFrame()\n",
    "\n",
    "#각 피험자별 데이터 반복 처리\n",
    "for fname in fnames:   \n",
    "    # 데이터 파일에서 필요한 열만 선택\n",
    "    df = pd.read_csv(path+fname).iloc[:,:7]\n",
    "    df.columns = [\"time\", \"type\", \"component\", \"response\", \"type_stim\",'scroll','stimuli']\n",
    "    \n",
    "    # 자극(stimuli) 행만 추출; 이미지 자극(.png) 포함된 행으로 필터링\n",
    "    stim_df = df[df['stimuli'].str.contains('.png', na=False)].copy().reset_index().drop(['index'],axis=1)\n",
    "    # 자극 파일명에서 자극 코드 추출\n",
    "    stim_df['filename'] = stim_df['stimuli'].str.extract(r\"([a-z]+-[a-z]+-\\d+\\.png)\")\n",
    "\n",
    "    # congruency (자극의 정합성 조건) 추출\n",
    "    stim_df['congruency'] = stim_df['filename'].str.extract(r'^([a-z]+)-')\n",
    "\n",
    "    # emotion 추출\n",
    "    stim_df['emotion'] = stim_df['filename'].str.extract(r'-([a-z]+)-\\d+\\.png')[0]\n",
    "    stim_df['emotion'] = stim_df['emotion'].map({'ha': 'happy', 'sa': 'sad'})\n",
    "\n",
    "    # response 데이터에서 response 라벨링 (이미 scroll='down' 조건 반영됨)\n",
    "    resp_df = df[df['component'].str.contains('Mouse:', na=False)].copy()\n",
    "    resp_df = resp_df[resp_df['scroll'].str.contains('down', na=False)].copy()\n",
    "    resp_df = resp_df[resp_df['response'].isin(['Right', 'Left'])].copy()\n",
    "    resp_df['response_label'] = resp_df['response'].map({'Right': 'incong', 'Left': 'cong'})\n",
    "\n",
    "    # stim과 resp를 시간 및 정답여부로 1:1 매칭\n",
    "    responses, rts, corrects = [], [], []\n",
    "    resp_idx = 0\n",
    "\n",
    "    for _, stim_row in stim_df.iterrows():\n",
    "        stim_time = stim_row['time']\n",
    "        \n",
    "        # stim 이후의 첫 응답 찾기\n",
    "        while resp_idx < len(resp_df) and resp_df.iloc[resp_idx]['time'] <= stim_time:\n",
    "            resp_idx += 1\n",
    "        \n",
    "        if resp_idx < len(resp_df):\n",
    "            resp_row = resp_df.iloc[resp_idx]\n",
    "            response = resp_row['response']\n",
    "            rt = resp_row['time'] - stim_time\n",
    "            # 정답 여부 판단 (위 조건대로)\n",
    "            if stim_row['congruency'] == 'cong' and response == 'Left':\n",
    "                correct = True\n",
    "            elif stim_row['congruency'] == 'incong' and response == 'Right':\n",
    "                correct = True\n",
    "            else:\n",
    "                correct = False\n",
    "\n",
    "            responses.append(response)\n",
    "            rts.append(rt)\n",
    "            corrects.append(correct)\n",
    "            resp_idx += 1\n",
    "        else:\n",
    "            responses.append(None)\n",
    "            rts.append(None)\n",
    "            corrects.append(None)\n",
    "\n",
    "    # 6. 결과 열 추가\n",
    "    stim_df['response'] = responses\n",
    "    stim_df['response_time'] = rts\n",
    "    stim_df['correct'] = corrects\n",
    "\n",
    "    sub_name = fname.split('_')[0]\n",
    "    sub_group = pd.DataFrame([sub_name for i in range(len(stim_df))],columns=['subject'])\n",
    "    stim_df['subject'] = sub_group\n",
    "    total_df = pd.concat([total_df,stim_df],axis=0)\n",
    "total_df = total_df.reset_index().drop(['index'],axis=1)"
   ]
  },
  {
   "cell_type": "code",
   "execution_count": 48,
   "metadata": {},
   "outputs": [
    {
     "data": {
      "text/plain": [
       "time             0\n",
       "type             0\n",
       "component        0\n",
       "response         0\n",
       "type_stim        0\n",
       "scroll           0\n",
       "stimuli          0\n",
       "filename         0\n",
       "congruency       0\n",
       "emotion          0\n",
       "response_time    0\n",
       "correct          0\n",
       "subject          0\n",
       "dtype: int64"
      ]
     },
     "execution_count": 48,
     "metadata": {},
     "output_type": "execute_result"
    }
   ],
   "source": [
    "total_df.isnull().sum()"
   ]
  },
  {
   "cell_type": "code",
   "execution_count": 49,
   "metadata": {},
   "outputs": [
    {
     "data": {
      "text/plain": [
       "['cey', 'kjy', 'lyj']"
      ]
     },
     "execution_count": 49,
     "metadata": {},
     "output_type": "execute_result"
    }
   ],
   "source": [
    "list(total_df['subject'].unique())"
   ]
  },
  {
   "cell_type": "code",
   "execution_count": 50,
   "metadata": {},
   "outputs": [],
   "source": [
    "total_df.to_csv('C:/Users/USER/Downloads/eeg-fnirs-face-word-eeg/response-data/total_response_data.csv')"
   ]
  },
  {
   "cell_type": "markdown",
   "metadata": {},
   "source": [
    "# RT data analysis"
   ]
  },
  {
   "cell_type": "code",
   "execution_count": 12,
   "metadata": {},
   "outputs": [
    {
     "name": "stdout",
     "output_type": "stream",
     "text": [
      "      time type component response type_stim scroll  \\\n",
      "0  63.5401  EXP   unnamed     Left     image      =   \n",
      "1  70.4303  EXP   unnamed    Right     image      =   \n",
      "2  76.1352  EXP   unnamed    Right     image      =   \n",
      "3  81.1578  EXP   unnamed    Right     image      =   \n",
      "4  85.9116  EXP   unnamed     Left     image      =   \n",
      "\n",
      "                                             stimuli          filename  \\\n",
      "0    'stimuli-ha-sa\\\\incong-cong-HA\\\\cong-ha-39.png'    cong-ha-39.png   \n",
      "1  'stimuli-ha-sa\\\\incong-cong-HA\\\\incong-ha-19.png'  incong-ha-19.png   \n",
      "2  'stimuli-ha-sa\\\\incong-cong-HA\\\\incong-ha-23.png'  incong-ha-23.png   \n",
      "3  'stimuli-ha-sa\\\\incong-cong-SA\\\\incong-sa-19.png'  incong-sa-19.png   \n",
      "4    'stimuli-ha-sa\\\\incong-cong-SA\\\\cong-sa-46.png'    cong-sa-46.png   \n",
      "\n",
      "  congruency emotion  response_time  correct subject  \n",
      "0       cong   happy         3.5813     True     cey  \n",
      "1     incong   happy         1.4268     True     cey  \n",
      "2     incong   happy         0.9624     True     cey  \n",
      "3     incong     sad         1.2513     True     cey  \n",
      "4       cong     sad         1.0334     True     cey  \n",
      "중복 행 개수: 0\n"
     ]
    }
   ],
   "source": [
    "response_df = pd.read_csv('C:/Users/USER/Downloads/eeg-fnirs-face-word-eeg/response-data/total_response_data.csv').drop(['Unnamed: 0'],axis=1)\n",
    "print(response_df.head())\n",
    "# 중복된 행 개수\n",
    "num_duplicates = response_df.duplicated().sum()\n",
    "print(f\"중복 행 개수: {num_duplicates}\")"
   ]
  },
  {
   "cell_type": "code",
   "execution_count": 7,
   "metadata": {},
   "outputs": [
    {
     "name": "stdout",
     "output_type": "stream",
     "text": [
      "         n_correct  n_total  accuracy\n",
      "subject                              \n",
      "cey            107      107  1.000000\n",
      "kjy             97      107  0.906542\n",
      "lyj            103      107  0.962617\n"
     ]
    }
   ],
   "source": [
    "# 전체 응답 수와 정답 수 함께\n",
    "summary = response_df.groupby('subject')['correct'].agg(['sum', 'count'])\n",
    "summary.columns = ['n_correct', 'n_total']\n",
    "summary['accuracy'] = summary['n_correct'] / summary['n_total']\n",
    "print(summary)\n"
   ]
  },
  {
   "cell_type": "code",
   "execution_count": 16,
   "metadata": {},
   "outputs": [
    {
     "name": "stdout",
     "output_type": "stream",
     "text": [
      "subject\n",
      "cey    1.417844\n",
      "kjy    1.547814\n",
      "lyj    1.504321\n",
      "Name: response_time, dtype: float64\n",
      "subject\n",
      "cey    1.417844\n",
      "kjy    1.547814\n",
      "lyj    1.504321\n",
      "Name: response_time, dtype: float64\n",
      "subject\n",
      "cey    1.417844\n",
      "kjy    1.547814\n",
      "lyj    1.504321\n",
      "Name: response_time, dtype: float64\n"
     ]
    }
   ],
   "source": [
    "# 피험자별 평균 반응시간\n",
    "rt_summary = response_df.groupby('subject')['response_time'].mean()\n",
    "print(rt_summary)\n",
    "rt_correct_only = response_df[response_df['correct'] == True].groupby('subject')['response_time'].mean()\n",
    "print(rt_summary)\n",
    "rt_correct_only = response_df[response_df['correct'] == False].groupby('subject')['response_time'].mean()\n",
    "print(rt_summary)"
   ]
  },
  {
   "cell_type": "code",
   "execution_count": 17,
   "metadata": {},
   "outputs": [
    {
     "name": "stdout",
     "output_type": "stream",
     "text": [
      "congruency      cong    incong\n",
      "subject                       \n",
      "cey         1.000000  1.000000\n",
      "kjy         0.830189  0.981481\n",
      "lyj         0.947368  0.980000\n"
     ]
    }
   ],
   "source": [
    "cong_acc = response_df.groupby(['subject', 'congruency'])['correct'].mean().unstack()\n",
    "print(cong_acc)"
   ]
  },
  {
   "cell_type": "code",
   "execution_count": 18,
   "metadata": {},
   "outputs": [
    {
     "name": "stdout",
     "output_type": "stream",
     "text": [
      "emotion  happy  sad\n",
      "subject            \n",
      "cey         52   55\n",
      "kjy         56   51\n",
      "lyj         50   57\n"
     ]
    }
   ],
   "source": [
    "# 피험자별 happy/sad trial 수\n",
    "trial_counts = response_df.groupby(['subject', 'emotion']).size().unstack(fill_value=0)\n",
    "print(trial_counts)"
   ]
  },
  {
   "cell_type": "code",
   "execution_count": 19,
   "metadata": {},
   "outputs": [
    {
     "name": "stdout",
     "output_type": "stream",
     "text": [
      "                 n_trials  n_correct  accuracy\n",
      "subject emotion                               \n",
      "cey     happy          52         52  1.000000\n",
      "        sad            55         55  1.000000\n",
      "kjy     happy          56         51  0.910714\n",
      "        sad            51         46  0.901961\n",
      "lyj     happy          50         48  0.960000\n",
      "        sad            57         55  0.964912\n"
     ]
    }
   ],
   "source": [
    "# 개수 + 정답 수 + 정확도까지 정리\n",
    "summary = response_df.groupby(['subject', 'emotion'])['correct'].agg(['count', 'sum', 'mean'])\n",
    "summary.columns = ['n_trials', 'n_correct', 'accuracy']\n",
    "print(summary)\n"
   ]
  }
 ],
 "metadata": {
  "kernelspec": {
   "display_name": "fnirs-stl",
   "language": "python",
   "name": "python3"
  },
  "language_info": {
   "codemirror_mode": {
    "name": "ipython",
    "version": 3
   },
   "file_extension": ".py",
   "mimetype": "text/x-python",
   "name": "python",
   "nbconvert_exporter": "python",
   "pygments_lexer": "ipython3",
   "version": "3.8.10"
  }
 },
 "nbformat": 4,
 "nbformat_minor": 2
}
