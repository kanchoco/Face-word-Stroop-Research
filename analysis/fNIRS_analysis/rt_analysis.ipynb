{
 "cells": [
  {
   "cell_type": "code",
   "execution_count": 5,
   "id": "62307a44",
   "metadata": {},
   "outputs": [
    {
     "name": "stdout",
     "output_type": "stream",
     "text": [
      "                           Source            SS  ddof1  ddof2            MS  \\\n",
      "0                 condition_clean     47.370048      1      1     47.370048   \n",
      "1                    face_emotion   7023.396434      1      1   7023.396434   \n",
      "2  condition_clean * face_emotion  94194.863960      1      1  94194.863960   \n",
      "\n",
      "          F     p-unc  p-GG-corr       ng2  eps  \n",
      "0  0.007744  0.944122   0.944122  0.000424  1.0  \n",
      "1  0.184326  0.741829   0.741829  0.059146  1.0  \n",
      "2  1.518482  0.433997   0.433997  0.457440  1.0  \n"
     ]
    }
   ],
   "source": [
    "import pandas as pd\n",
    "import pingouin as pg\n",
    "\n",
    "# 1. CSV 파일 불러오기\n",
    "df = pd.read_csv(r\"C:\\Users\\SM-PC\\Desktop\\research\\EEG-fNIRS_face-word_stimuli\\response-data\\stroop_rt_anova_ready.csv\")\n",
    "\n",
    "# 2. 결측치 제거 (이미 정제된 경우 생략 가능)\n",
    "df = df.dropna(subset=['rt', 'condition_clean', 'face_emotion', 'subject'])\n",
    "\n",
    "# 3. 반복측정 ANOVA 수행\n",
    "aov = pg.rm_anova(\n",
    "    data=df,\n",
    "    dv='rt',\n",
    "    within=['condition_clean', 'face_emotion'],\n",
    "    subject='subject',\n",
    "    detailed=True\n",
    ")\n",
    "\n",
    "# 4. 결과 출력\n",
    "print(aov)\n"
   ]
  }
 ],
 "metadata": {
  "kernelspec": {
   "display_name": "python3.8",
   "language": "python",
   "name": "python3"
  },
  "language_info": {
   "codemirror_mode": {
    "name": "ipython",
    "version": 3
   },
   "file_extension": ".py",
   "mimetype": "text/x-python",
   "name": "python",
   "nbconvert_exporter": "python",
   "pygments_lexer": "ipython3",
   "version": "3.8.20"
  }
 },
 "nbformat": 4,
 "nbformat_minor": 5
}
